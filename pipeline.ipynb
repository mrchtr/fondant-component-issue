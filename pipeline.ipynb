{
 "cells": [
  {
   "cell_type": "code",
   "execution_count": 1,
   "metadata": {},
   "outputs": [],
   "source": [
    "import pyarrow as pa\n",
    "from fondant.pipeline import Pipeline\n",
    "import os\n",
    "MOCK_DATA_PATH_FONDANT = \"/data/mock_data.parquet\""
   ]
  },
  {
   "cell_type": "code",
   "execution_count": 2,
   "metadata": {},
   "outputs": [],
   "source": [
    "# Create a new pipeline\n",
    "\n",
    "pipeline = Pipeline(\n",
    "\tname=\"test_feature_extraction_pipeline\",\n",
    "\tbase_path=\".fondant\",\n",
    "\tdescription=\"A pipeline to extract features from protein sequences.\"\n",
    ")"
   ]
  },
  {
   "cell_type": "code",
   "execution_count": 3,
   "metadata": {},
   "outputs": [],
   "source": [
    "# Read the dataset\n",
    "\n",
    "dataset = pipeline.read(\n",
    "\t\"load_from_parquet\",\n",
    "\targuments={\n",
    "\t\t\"dataset_uri\": MOCK_DATA_PATH_FONDANT,\n",
    "\t},\n",
    "\tproduces={\n",
    "\t\t\"sequence\": pa.string()\n",
    "\t}\n",
    ")"
   ]
  },
  {
   "cell_type": "code",
   "execution_count": 5,
   "metadata": {},
   "outputs": [
    {
     "name": "stderr",
     "output_type": "stream",
     "text": [
      "[2024-04-06 17:14:40,646 | fondant.pipeline.pipeline | WARNING] Component `Biopython component` has an image tag set to latest. Caching for the component will be disabled to prevent unpredictable behavior due to images updates\n",
      "[2024-04-06 17:14:40,646 | fondant.pipeline.pipeline | WARNING] Component `Checksum component` has an image tag set to latest. Caching for the component will be disabled to prevent unpredictable behavior due to images updates\n"
     ]
    }
   ],
   "source": [
    "# Apply the components to the dataset\n",
    "\n",
    "_ = dataset.apply(\n",
    "\t\"./components/biopython_component\"\n",
    ").apply(\n",
    "\t\"./components/checksum_component\"\n",
    ")"
   ]
  },
  {
   "cell_type": "code",
   "execution_count": 6,
   "metadata": {},
   "outputs": [
    {
     "name": "stderr",
     "output_type": "stream",
     "text": [
      "[2024-04-06 17:14:43,654 | root | INFO] Found reference to un-compiled pipeline... compiling\n",
      "[2024-04-06 17:14:43,655 | fondant.pipeline.compiler | INFO] Compiling test_feature_extraction_pipeline to .fondant/compose.yaml\n",
      "[2024-04-06 17:14:43,656 | fondant.pipeline.compiler | INFO] Base path found on local system, setting up .fondant as mount volume\n",
      "[2024-04-06 17:14:43,657 | fondant.pipeline.pipeline | INFO] Sorting pipeline component graph topologically.\n",
      "[2024-04-06 17:14:43,659 | fondant.pipeline.pipeline | INFO] All pipeline component specifications match.\n",
      "[2024-04-06 17:14:43,660 | fondant.pipeline.compiler | INFO] Compiling service for load_from_parquet\n",
      "[2024-04-06 17:14:43,661 | fondant.pipeline.compiler | INFO] Compiling service for biopython_component\n",
      "[2024-04-06 17:14:43,662 | fondant.pipeline.compiler | INFO] Found Dockerfile for biopython_component, adding build step.\n",
      "[2024-04-06 17:14:43,663 | fondant.pipeline.compiler | INFO] Compiling service for checksum_component\n",
      "[2024-04-06 17:14:43,663 | fondant.pipeline.compiler | INFO] Found Dockerfile for checksum_component, adding build step.\n",
      "[2024-04-06 17:14:43,670 | fondant.pipeline.compiler | INFO] Successfully compiled to .fondant/compose.yaml\n"
     ]
    },
    {
     "name": "stdout",
     "output_type": "stream",
     "text": [
      "Starting pipeline run...\n",
      "Finished pipeline run.\n"
     ]
    }
   ],
   "source": [
    "from fondant.pipeline.runner import DockerRunner\n",
    "\n",
    "# get current full path to the project\n",
    "mounted_data = os.getcwd() + \"\\data\"\n",
    "\n",
    "DockerRunner().run(input=pipeline, extra_volumes=mounted_data)"
   ]
  }
 ],
 "metadata": {
  "kernelspec": {
   "display_name": "fondant-component-issue-gc8eXdL_",
   "language": "python",
   "name": "python3"
  },
  "language_info": {
   "codemirror_mode": {
    "name": "ipython",
    "version": 3
   },
   "file_extension": ".py",
   "mimetype": "text/x-python",
   "name": "python",
   "nbconvert_exporter": "python",
   "pygments_lexer": "ipython3",
   "version": "3.11.4"
  }
 },
 "nbformat": 4,
 "nbformat_minor": 2
}
